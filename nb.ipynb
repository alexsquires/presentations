{
 "cells": [
  {
   "cell_type": "markdown",
   "metadata": {
    "slideshow": {
     "slide_type": "slide"
    }
   },
   "source": [
    "# Modelling Defects in Battery Materials\n",
    "## A Progress Report"
   ]
  },
  {
   "cell_type": "markdown",
   "metadata": {
    "slideshow": {
     "slide_type": "slide"
    }
   },
   "source": [
    "\n",
    "## LLZO, a Ceramic Electrolyte\n",
    "\n",
    "Our GGA study shows qualitatively that we expect oxygen vacancies to compenstate Li vacancies.\n",
    "\n",
    "\n",
    "$$ \\mathrm{LLZO} \\rightarrow 2V'_{\\mathrm{Li}} + V^{\\bullet\\bullet}_{\\mathrm{O}} + \\mathrm{LLZO} .$$\n",
    "\n"
   ]
  },
  {
   "cell_type": "markdown",
   "metadata": {
    "slideshow": {
     "slide_type": "fragment"
    }
   },
   "source": [
    "**But**, poor treatment of defects that should trap charge carriers (GGA favours solutions that delocalise charge)"
   ]
  },
  {
   "cell_type": "markdown",
   "metadata": {
    "slideshow": {
     "slide_type": "subslide"
    }
   },
   "source": [
    "GGA+*U* Study improves treatments of defects, by increasing the energy of partially occupied states. This allows for calculation of defect concentrations,  \n",
    "\n",
    "\n",
    "$$ C = N exp (-E_f/kT ) .$$\n",
    "\n"
   ]
  },
  {
   "cell_type": "markdown",
   "metadata": {
    "slideshow": {
     "slide_type": "fragment"
    }
   },
   "source": [
    "**But**, issues with band gap underestimation results in defect compensation in conduction band. Bearing in mind we should be dealing with an insulator, this seems unlikely."
   ]
  },
  {
   "cell_type": "markdown",
   "metadata": {
    "slideshow": {
     "slide_type": "fragment"
    }
   },
   "source": [
    "So, what next?"
   ]
  },
  {
   "cell_type": "markdown",
   "metadata": {
    "slideshow": {
     "slide_type": "subslide"
    }
   },
   "source": [
    "## Hybrid DFT\n",
    "\n",
    "Widen the gap using hybrid DFT.\n",
    "<center><img src=\n",
    "\"img/Hybrid_gga.PNG\"\n",
    "width=\"400\" height=\"400\"></center>"
   ]
  },
  {
   "cell_type": "markdown",
   "metadata": {
    "slideshow": {
     "slide_type": "slide"
    }
   },
   "source": [
    "## Polaron Hopping in LiFePO<sub>4</sub> "
   ]
  },
  {
   "cell_type": "markdown",
   "metadata": {},
   "source": [
    "<center><img src=\n",
    "\"img/Pres_sketch.png\"\n",
    "width=\"350\" height=\"350\"></center>"
   ]
  },
  {
   "cell_type": "markdown",
   "metadata": {
    "slideshow": {
     "slide_type": "subslide"
    }
   },
   "source": [
    "## A Crude Hop\n",
    "\n"
   ]
  },
  {
   "cell_type": "markdown",
   "metadata": {},
   "source": [
    "<center><img src=\n",
    "\"img/hop.PNG\"\n",
    "width=\"450\" height=\"450\"></center>"
   ]
  },
  {
   "cell_type": "markdown",
   "metadata": {
    "slideshow": {
     "slide_type": "slide"
    }
   },
   "source": [
    "## Thank you!"
   ]
  },
  {
   "cell_type": "code",
   "execution_count": null,
   "metadata": {},
   "outputs": [],
   "source": []
  }
 ],
 "metadata": {
  "celltoolbar": "Slideshow",
  "kernelspec": {
   "display_name": "Python 3",
   "language": "python",
   "name": "python3"
  },
  "language_info": {
   "codemirror_mode": {
    "name": "ipython",
    "version": 3
   },
   "file_extension": ".py",
   "mimetype": "text/x-python",
   "name": "python",
   "nbconvert_exporter": "python",
   "pygments_lexer": "ipython3",
   "version": "3.5.2"
  }
 },
 "nbformat": 4,
 "nbformat_minor": 2
}
