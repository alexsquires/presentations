{
 "cells": [
  {
   "cell_type": "markdown",
   "metadata": {
    "slideshow": {
     "slide_type": "slide"
    }
   },
   "source": [
    "# Modelling Defects in Battery Materials\n",
    "## A Progress Report"
   ]
  },
  {
   "cell_type": "markdown",
   "metadata": {
    "slideshow": {
     "slide_type": "slide"
    }
   },
   "source": [
    "\n",
    "# LLZO, a Ceramic Electrolyte\n",
    "\n",
    "GGA Study, Showed qualitatively that we expect oxygen vacancies to compenstate Li vacancies\n",
    "\n",
    "But, poor treatment of defects that should trap charge carriers (GGA favours solutions that delocalise charge)"
   ]
  },
  {
   "cell_type": "markdown",
   "metadata": {
    "slideshow": {
     "slide_type": "subslide"
    }
   },
   "source": [
    "GGA + U Study improves treatments of defects, by increasing the energy of partially occupied states. \n",
    "\n",
    "But, issues with band gap underestimation results in defect compensation in conduction band."
   ]
  },
  {
   "cell_type": "markdown",
   "metadata": {
    "slideshow": {
     "slide_type": "subslide"
    }
   },
   "source": [
    "# So, what next?\n",
    "\n",
    "<center><img src=\n",
    "\"Hybrid_gga.PNG\"\n",
    "width=\"250\" height=\"250\"></center>"
   ]
  },
  {
   "cell_type": "markdown",
   "metadata": {
    "slideshow": {
     "slide_type": "slide"
    }
   },
   "source": [
    "# Polaron Hopping in LiFePO<sub>4</sub> "
   ]
  },
  {
   "cell_type": "markdown",
   "metadata": {},
   "source": [
    "<center><img src=\n",
    "\"Pres_sketch.PNG\"\n",
    "width=\"350\" height=\"350\"></center>"
   ]
  },
  {
   "cell_type": "markdown",
   "metadata": {
    "slideshow": {
     "slide_type": "subslide"
    }
   },
   "source": [
    "## A Crude Hop\n",
    "\n",
    "<center><img src=\n",
    "\"hop.PNG\"\n",
    "width=\"450\" height=\"450\"></center>"
   ]
  },
  {
   "cell_type": "code",
   "execution_count": null,
   "metadata": {
    "collapsed": true
   },
   "outputs": [],
   "source": []
  }
 ],
 "metadata": {
  "celltoolbar": "Slideshow",
  "kernelspec": {
   "display_name": "Python 3",
   "language": "python",
   "name": "python3"
  },
  "language_info": {
   "codemirror_mode": {
    "name": "ipython",
    "version": 3
   },
   "file_extension": ".py",
   "mimetype": "text/x-python",
   "name": "python",
   "nbconvert_exporter": "python",
   "pygments_lexer": "ipython3",
   "version": "3.6.2"
  }
 },
 "nbformat": 4,
 "nbformat_minor": 2
}
